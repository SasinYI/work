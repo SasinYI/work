{
 "cells": [
  {
   "cell_type": "code",
   "execution_count": 20,
   "id": "43192161",
   "metadata": {},
   "outputs": [],
   "source": [
    "#LW 3\n",
    "#gamma encryption\n",
    "\n",
    "import numpy as np\n",
    "def get_alphabet(option = \"eng\"):\n",
    "    if option == \"eng\":\n",
    "        return list(map(chr, range(ord(\"a\"), ord(\"z\")+1)))\n",
    "    elif option == \"rus\":\n",
    "        return list(map(chr, range(ord(\"а\"), ord(\"я\")+1)))\n",
    "    \n",
    "def gamma_encryption( message: str, gamma: str):\n",
    "    alphabet = get_alphabet()\n",
    "    if message[0].lower() not in alphabet:\n",
    "        alphabet = get_alphabet(\"rus\")\n",
    "        \n",
    "        print(alphabet)\n",
    "        m = len(alphabet)\n",
    "        \n",
    "    def encrypt(letters_pair: tuple):\n",
    "        idx = (letters_pair[0] + 1) + (letters_pair[1] + 1) % m\n",
    "        if idx > m:\n",
    "            idx = idx - m\n",
    "            \n",
    "        return idx - 1\n",
    "            \n",
    "    message_cleared = list(filter(lambda s: s.lower() in alphabet, message))\n",
    "    gamma_cleared = list(filter(lambda s: s.lower() in alphabet, gamma))\n",
    "                     \n",
    "    message_indices = list(map(lambda s: alphabet.index(s.lower()), message_cleared))\n",
    "    gamma_indices = list(map(lambda s: alphabet.index(s.lower()), gamma_cleared))\n",
    "    \n",
    "    for i in range(len(message_indices) - len(gamma_indices)):\n",
    "        gamma_indices.append(gamma_indices[i])\n",
    "    \n",
    "    print(f'{message.upper()} -> {message_indices}\\n{gamma.upper()} -> {gamma_indices}')\n",
    "    \n",
    "    encrypted_indices = list(map(lambda s: encrypt(s), zip(message_indices, gamma_indices)))\n",
    "    print(f\"ENCRYPTED FORM: {encrypted_indices}\\n\")\n",
    "    \n",
    "    return ''.join(list(map(lambda s: alphabet[s], encrypted_indices))).upper()\n",
    "\n",
    "def test_encryption(message: str, gamma: str):\n",
    "    print(f'ENCRYPTION RESULT: {gamma_encryption(message, gamma)}')"
   ]
  },
  {
   "cell_type": "code",
   "execution_count": 21,
   "id": "bb4e3ef8",
   "metadata": {},
   "outputs": [
    {
     "name": "stdout",
     "output_type": "stream",
     "text": [
      "TEST 1\n",
      "\n",
      "['а', 'б', 'в', 'г', 'д', 'е', 'ж', 'з', 'и', 'й', 'к', 'л', 'м', 'н', 'о', 'п', 'р', 'с', 'т', 'у', 'ф', 'х', 'ц', 'ч', 'ш', 'щ', 'ъ', 'ы', 'ь', 'э', 'ю', 'я']\n",
      "ПРИКАЗ -> [15, 16, 8, 10, 0, 7]\n",
      "ГАММА -> [3, 0, 12, 12, 0, 3]\n",
      "ENCRYPTED FORM: [19, 17, 21, 23, 1, 11]\n",
      "\n",
      "ENCRYPTION RESULT: УСХЧБЛ\n",
      "TEST 2\n",
      "\n",
      "['а', 'б', 'в', 'г', 'д', 'е', 'ж', 'з', 'и', 'й', 'к', 'л', 'м', 'н', 'о', 'п', 'р', 'с', 'т', 'у', 'ф', 'х', 'ц', 'ч', 'ш', 'щ', 'ъ', 'ы', 'ь', 'э', 'ю', 'я']\n",
      "ЛАЙК ПОДПИСКА КОЛОКОЛЬЧИК -> [11, 0, 9, 10, 15, 14, 4, 15, 8, 17, 10, 0, 10, 14, 11, 14, 10, 14, 11, 28, 23, 8, 10]\n",
      "НИЖНИЙ ТЕКСТ -> [13, 8, 6, 13, 8, 9, 18, 5, 10, 17, 18, 13, 8, 6, 13, 8, 9, 18, 5, 10, 17, 18, 13]\n",
      "ENCRYPTED FORM: [25, 9, 16, 24, 24, 24, 23, 21, 19, 3, 29, 14, 19, 21, 25, 23, 20, 1, 17, 7, 9, 27, 24]\n",
      "\n",
      "ENCRYPTION RESULT: ЩЙРШШШЧХУГЭОУХЩЧФБСЗЙЫШ\n"
     ]
    }
   ],
   "source": [
    "def main():\n",
    "    message = \"приказ\"\n",
    "    gamma   = \"гамма\"\n",
    "    \n",
    "    print(\"TEST 1\\n\")\n",
    "    \n",
    "    test_encryption(message, gamma)\n",
    "    \n",
    "    message = \"лайк подписка колокольчик\"\n",
    "    gamma   = \"нижний текст\"\n",
    "    \n",
    "    print(\"TEST 2\\n\")\n",
    "    test_encryption(message, gamma)\n",
    "    \n",
    "if __name__ == \"__main__\":\n",
    "    main()"
   ]
  },
  {
   "cell_type": "code",
   "execution_count": null,
   "id": "f6553620",
   "metadata": {},
   "outputs": [],
   "source": []
  }
 ],
 "metadata": {
  "kernelspec": {
   "display_name": "Python 3 (ipykernel)",
   "language": "python",
   "name": "python3"
  },
  "language_info": {
   "codemirror_mode": {
    "name": "ipython",
    "version": 3
   },
   "file_extension": ".py",
   "mimetype": "text/x-python",
   "name": "python",
   "nbconvert_exporter": "python",
   "pygments_lexer": "ipython3",
   "version": "3.9.12"
  }
 },
 "nbformat": 4,
 "nbformat_minor": 5
}
